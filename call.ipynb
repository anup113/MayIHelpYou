{
 "cells": [
  {
   "cell_type": "code",
   "execution_count": 53,
   "metadata": {},
   "outputs": [],
   "source": [
    "import os\n",
    "from twilio.rest import Client\n",
    "import xml.etree.ElementTree as ET\n",
    "from twilio.twiml.voice_response import Play, VoiceResponse, Gather\n",
    "from flask import Flask, request\n",
    "import csv"
   ]
  },
  {
   "cell_type": "code",
   "execution_count": 2,
   "metadata": {},
   "outputs": [],
   "source": [
    "account_sid = \""\n",
    "auth_token = \""\n",
    "client = Client(account_sid, auth_token)"
   ]
  },
  {
   "cell_type": "code",
   "execution_count": 62,
   "metadata": {},
   "outputs": [
    {
     "name": "stdout",
     "output_type": "stream",
     "text": [
      "['11', \"Hi. This is a wellness check from your health plan, We can help with: Coronavirus, Other health conditions, Food, Unemployment assistance, and Housing issues. For help with ANY of the above,press 91. If you don't need help, press 50\", 'Question', '91', '', '50']\n",
      "['91', \"Do you have a fever, cough, sore throat, or trouble breathing? If yes, or if you're worried you may have coronavirus, press 51. If not, press 92\", 'Question', '51', 'Symptoms=True', '92']\n",
      "['92', 'The coronavirus outbreak may be stressful to you and your loved ones. Do you need extra emotional support? Press 51 if you want support, else press 93', 'Question', '51', 'Emotion_Support=True', '93']\n",
      "['93', 'Are you having problems getting your prescription medications or refills? Press 51 if you need help, else press 94', 'Question', '51', 'Prescription=True', '94']\n",
      "['94', 'Are you having trouble reaching your doctor for any urgent health need? For info about speaking to a telehealth doctor, press 51. If not, press 50.', 'Question', '51', 'Dcotor=True', '50']\n",
      "['50', 'We hope you and your family stay well. Please try to stay at home and help prevent the spread of coronavirus.', 'Close', '', '', '']\n",
      "['51', 'We are connencting you with our team, they will help you out further', 'Transfer', '', 'Transfer=True', '']\n"
     ]
    }
   ],
   "source": [
    "fields = [] \n",
    "rows = []\n",
    "dialog = {}\n",
    "action = {}\n",
    "with open(\"ivr.csv\", 'r') as csvfile:\n",
    "    # creating a csv reader object \n",
    "    csvreader = csv.reader(csvfile) \n",
    "    # extracting field names through first row\n",
    "    fields = next(csvreader)\n",
    "    for row in csvreader: \n",
    "        rows.append(row)\n",
    "        dialog[str(row[0])] = row[1]\n",
    "        print(row)"
   ]
  },
  {
   "cell_type": "code",
   "execution_count": 23,
   "metadata": {},
   "outputs": [],
   "source": [
    "def get_audio_path(id, language='en-US'):\n",
    "    if id == 91:\n",
    "        return "
   ]
  },
  {
   "cell_type": "code",
   "execution_count": 71,
   "metadata": {},
   "outputs": [],
   "source": [
    "app = Flask(__name__)"
   ]
  },
  {
   "cell_type": "code",
   "execution_count": 72,
   "metadata": {},
   "outputs": [],
   "source": [
    "@app.route(\"/voice/\", methods=['GET', 'POST'])\n",
    "def voiceRecording():\n",
    "    resp = VoiceResponse()\n",
    "    resp.say('Speak something')\n",
    "    resp.record(timeout=10)\n",
    "    print(resp)\n",
    "    return str(resp)"
   ]
  },
  {
   "cell_type": "code",
   "execution_count": 63,
   "metadata": {},
   "outputs": [],
   "source": [
    "@app.route(\"/voice/\", methods=['GET', 'POST'])\n",
    "def voice():\n",
    "    #print(request)\n",
    "    # Start our TwiML response\n",
    "    resp = VoiceResponse()\n",
    "    \n",
    "    # POST Request\n",
    "    if request.method == \"POST\":\n",
    "        \n",
    "        # Check if user has passed input \n",
    "        if 'Digits' in request.values:\n",
    "            # Get dialed digit\n",
    "            choice = request.values['Digits']\n",
    "            if choice == '1':\n",
    "                resp.say('You selected sales. Good for you!')\n",
    "                #return str(resp)\n",
    "            elif choice == '2':\n",
    "                resp.say('You need support. We will help!')\n",
    "                #return str(resp)\n",
    "            try:\n",
    "                resp.say(dialog[str(choice)])\n",
    "            except:\n",
    "                resp.say('Good Bye, wrong input')\n",
    "            gather = Gather(num_digits=2)\n",
    "        \n",
    "        # If the user doesn't select an option, redirect them into a loop\n",
    "        return str(resp)\n",
    "        resp.redirect('/voice/')\n",
    "\n",
    "    return str(resp)"
   ]
  },
  {
   "cell_type": "code",
   "execution_count": 73,
   "metadata": {},
   "outputs": [
    {
     "name": "stdout",
     "output_type": "stream",
     "text": [
      " * Serving Flask app \"__main__\" (lazy loading)\n",
      " * Environment: production\n",
      "\u001b[31m   WARNING: This is a development server. Do not use it in a production deployment.\u001b[0m\n",
      "\u001b[2m   Use a production WSGI server instead.\u001b[0m\n",
      " * Debug mode: on\n"
     ]
    },
    {
     "name": "stderr",
     "output_type": "stream",
     "text": [
      "127.0.0.1 - - [06/Dec/2020 19:17:54] \"\u001b[37mPOST /voice/ HTTP/1.1\u001b[0m\" 200 -\n"
     ]
    },
    {
     "name": "stdout",
     "output_type": "stream",
     "text": [
      "<?xml version=\"1.0\" encoding=\"UTF-8\"?><Response><Say>Speak something</Say><Record timeout=\"10\" /></Response>\n"
     ]
    },
    {
     "name": "stderr",
     "output_type": "stream",
     "text": [
      "127.0.0.1 - - [06/Dec/2020 19:18:40] \"\u001b[37mPOST /voice/ HTTP/1.1\u001b[0m\" 200 -\n"
     ]
    },
    {
     "name": "stdout",
     "output_type": "stream",
     "text": [
      "<?xml version=\"1.0\" encoding=\"UTF-8\"?><Response><Say>Speak something</Say><Record timeout=\"10\" /></Response>\n"
     ]
    }
   ],
   "source": [
    "if __name__ == \"__main__\":\n",
    "    call = client.calls.create(to=\"+919586878366\",from_=\"+16042294592\",url=\"http://0d58062b42dd.ngrok.io/voice/\")\n",
    "    app.run(debug=True, port=8080, use_reloader=False)"
   ]
  },
  {
   "cell_type": "code",
   "execution_count": 28,
   "metadata": {},
   "outputs": [],
   "source": []
  },
  {
   "cell_type": "code",
   "execution_count": null,
   "metadata": {},
   "outputs": [],
   "source": []
  }
 ],
 "metadata": {
  "kernelspec": {
   "display_name": "Python 3.6.9 64-bit",
   "language": "python",
   "name": "python36964bitb742122152dd4bf0abbf117ed8da8582"
  },
  "language_info": {
   "codemirror_mode": {
    "name": "ipython",
    "version": 3
   },
   "file_extension": ".py",
   "mimetype": "text/x-python",
   "name": "python",
   "nbconvert_exporter": "python",
   "pygments_lexer": "ipython3",
   "version": "3.6.9"
  }
 },
 "nbformat": 4,
 "nbformat_minor": 4
}
